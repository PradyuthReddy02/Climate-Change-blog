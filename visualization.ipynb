{
 "cells": [
  {
   "cell_type": "code",
   "execution_count": 4,
   "metadata": {},
   "outputs": [],
   "source": [
    "import folium\n",
    "import geemap\n",
    "\n",
    "# Add Earth Engine drawing method to folium.\n",
    "def add_ee_layer(self, ee_image_object, vis_params, name):\n",
    "    map_id_dict = ee.Image(ee_image_object).getMapId(vis_params)\n",
    "    folium.raster_layers.TileLayer(\n",
    "        tiles=map_id_dict['tile_fetcher'].url_format,\n",
    "        attr='Map Data &copy; <a href=\"https://earthengine.google.com/\">Google Earth Engine</a>',\n",
    "        name=name,\n",
    "        overlay=True,\n",
    "        control=True\n",
    "    ).add_to(self)\n",
    "\n",
    "# Add EE drawing method to folium.\n",
    "folium.Map.add_ee_layer = add_ee_layer"
   ]
  },
  {
   "cell_type": "code",
   "execution_count": 16,
   "metadata": {},
   "outputs": [
    {
     "data": {
      "text/html": [
       "\n",
       "            <style>\n",
       "                .geemap-dark {\n",
       "                    --jp-widgets-color: white;\n",
       "                    --jp-widgets-label-color: white;\n",
       "                    --jp-ui-font-color1: white;\n",
       "                    --jp-layout-color2: #454545;\n",
       "                    background-color: #383838;\n",
       "                }\n",
       "\n",
       "                .geemap-dark .jupyter-button {\n",
       "                    --jp-layout-color3: #383838;\n",
       "                }\n",
       "\n",
       "                .geemap-colab {\n",
       "                    background-color: var(--colab-primary-surface-color, white);\n",
       "                }\n",
       "\n",
       "                .geemap-colab .jupyter-button {\n",
       "                    --jp-layout-color3: var(--colab-primary-surface-color, white);\n",
       "                }\n",
       "            </style>\n",
       "            "
      ],
      "text/plain": [
       "<IPython.core.display.HTML object>"
      ]
     },
     "metadata": {},
     "output_type": "display_data"
    },
    {
     "data": {
      "text/html": [
       "<div style=\"width:100%;\"><div style=\"position:relative;width:100%;height:0;padding-bottom:60%;\"><span style=\"color:#565656\">Make this Notebook Trusted to load map: File -> Trust Notebook</span><iframe srcdoc=\"&lt;!DOCTYPE html&gt;\n",
       "&lt;html&gt;\n",
       "&lt;head&gt;\n",
       "    \n",
       "    &lt;meta http-equiv=&quot;content-type&quot; content=&quot;text/html; charset=UTF-8&quot; /&gt;\n",
       "    \n",
       "        &lt;script&gt;\n",
       "            L_NO_TOUCH = false;\n",
       "            L_DISABLE_3D = false;\n",
       "        &lt;/script&gt;\n",
       "    \n",
       "    &lt;style&gt;html, body {width: 100%;height: 100%;margin: 0;padding: 0;}&lt;/style&gt;\n",
       "    &lt;style&gt;#map {position:absolute;top:0;bottom:0;right:0;left:0;}&lt;/style&gt;\n",
       "    &lt;script src=&quot;https://cdn.jsdelivr.net/npm/leaflet@1.9.3/dist/leaflet.js&quot;&gt;&lt;/script&gt;\n",
       "    &lt;script src=&quot;https://code.jquery.com/jquery-3.7.1.min.js&quot;&gt;&lt;/script&gt;\n",
       "    &lt;script src=&quot;https://cdn.jsdelivr.net/npm/bootstrap@5.2.2/dist/js/bootstrap.bundle.min.js&quot;&gt;&lt;/script&gt;\n",
       "    &lt;script src=&quot;https://cdnjs.cloudflare.com/ajax/libs/Leaflet.awesome-markers/2.0.2/leaflet.awesome-markers.js&quot;&gt;&lt;/script&gt;\n",
       "    &lt;link rel=&quot;stylesheet&quot; href=&quot;https://cdn.jsdelivr.net/npm/leaflet@1.9.3/dist/leaflet.css&quot;/&gt;\n",
       "    &lt;link rel=&quot;stylesheet&quot; href=&quot;https://cdn.jsdelivr.net/npm/bootstrap@5.2.2/dist/css/bootstrap.min.css&quot;/&gt;\n",
       "    &lt;link rel=&quot;stylesheet&quot; href=&quot;https://netdna.bootstrapcdn.com/bootstrap/3.0.0/css/bootstrap-glyphicons.css&quot;/&gt;\n",
       "    &lt;link rel=&quot;stylesheet&quot; href=&quot;https://cdn.jsdelivr.net/npm/@fortawesome/fontawesome-free@6.2.0/css/all.min.css&quot;/&gt;\n",
       "    &lt;link rel=&quot;stylesheet&quot; href=&quot;https://cdnjs.cloudflare.com/ajax/libs/Leaflet.awesome-markers/2.0.2/leaflet.awesome-markers.css&quot;/&gt;\n",
       "    &lt;link rel=&quot;stylesheet&quot; href=&quot;https://cdn.jsdelivr.net/gh/python-visualization/folium/folium/templates/leaflet.awesome.rotate.min.css&quot;/&gt;\n",
       "    \n",
       "            &lt;meta name=&quot;viewport&quot; content=&quot;width=device-width,\n",
       "                initial-scale=1.0, maximum-scale=1.0, user-scalable=no&quot; /&gt;\n",
       "            &lt;style&gt;\n",
       "                #map_ed1fcf69cb13f9e380368815bf5ce161 {\n",
       "                    position: relative;\n",
       "                    width: 100.0%;\n",
       "                    height: 100.0%;\n",
       "                    left: 0.0%;\n",
       "                    top: 0.0%;\n",
       "                }\n",
       "                .leaflet-container { font-size: 1rem; }\n",
       "            &lt;/style&gt;\n",
       "        \n",
       "&lt;/head&gt;\n",
       "&lt;body&gt;\n",
       "    \n",
       "    \n",
       "            &lt;div class=&quot;folium-map&quot; id=&quot;map_ed1fcf69cb13f9e380368815bf5ce161&quot; &gt;&lt;/div&gt;\n",
       "        \n",
       "&lt;/body&gt;\n",
       "&lt;script&gt;\n",
       "    \n",
       "    \n",
       "            var map_ed1fcf69cb13f9e380368815bf5ce161 = L.map(\n",
       "                &quot;map_ed1fcf69cb13f9e380368815bf5ce161&quot;,\n",
       "                {\n",
       "                    center: [20.5937, 78.9629],\n",
       "                    crs: L.CRS.EPSG3857,\n",
       "                    ...{\n",
       "  &quot;zoom&quot;: 5,\n",
       "  &quot;zoomControl&quot;: true,\n",
       "  &quot;preferCanvas&quot;: false,\n",
       "}\n",
       "\n",
       "                }\n",
       "            );\n",
       "\n",
       "            \n",
       "\n",
       "        \n",
       "    \n",
       "            var tile_layer_31bf8e77fd7416703d80def18d50d134 = L.tileLayer(\n",
       "                &quot;https://tile.openstreetmap.org/{z}/{x}/{y}.png&quot;,\n",
       "                {\n",
       "  &quot;minZoom&quot;: 0,\n",
       "  &quot;maxZoom&quot;: 19,\n",
       "  &quot;maxNativeZoom&quot;: 19,\n",
       "  &quot;noWrap&quot;: false,\n",
       "  &quot;attribution&quot;: &quot;Map data \\u0026copy; \\u003ca href=\\&quot;https://www.openstreetmap.org/copyright\\&quot;\\u003eOpenStreetMap\\u003c/a\\u003e contributors&quot;,\n",
       "  &quot;subdomains&quot;: &quot;abc&quot;,\n",
       "  &quot;detectRetina&quot;: false,\n",
       "  &quot;tms&quot;: false,\n",
       "  &quot;opacity&quot;: 1,\n",
       "}\n",
       "\n",
       "            );\n",
       "        \n",
       "    \n",
       "            tile_layer_31bf8e77fd7416703d80def18d50d134.addTo(map_ed1fcf69cb13f9e380368815bf5ce161);\n",
       "        \n",
       "    \n",
       "            var tile_layer_b0c2bc36f4bd54393d71ada94ebc2566 = L.tileLayer(\n",
       "                &quot;https://earthengine.googleapis.com/v1/projects/83314568096/maps/6f82ebeb289a7c01bb8366a3e1c9e4ec-f4362479fb6721a4665da05104b8a7f9/tiles/{z}/{x}/{y}&quot;,\n",
       "                {\n",
       "  &quot;minZoom&quot;: 0,\n",
       "  &quot;maxZoom&quot;: 18,\n",
       "  &quot;maxNativeZoom&quot;: 18,\n",
       "  &quot;noWrap&quot;: false,\n",
       "  &quot;attribution&quot;: &quot;Map Data \\u0026copy; \\u003ca href=\\&quot;https://earthengine.google.com/\\&quot;\\u003eGoogle Earth Engine\\u003c/a\\u003e&quot;,\n",
       "  &quot;subdomains&quot;: &quot;abc&quot;,\n",
       "  &quot;detectRetina&quot;: false,\n",
       "  &quot;tms&quot;: false,\n",
       "  &quot;opacity&quot;: 1,\n",
       "}\n",
       "\n",
       "            );\n",
       "        \n",
       "    \n",
       "            tile_layer_b0c2bc36f4bd54393d71ada94ebc2566.addTo(map_ed1fcf69cb13f9e380368815bf5ce161);\n",
       "        \n",
       "    \n",
       "            var layer_control_0a3285fa343e4e6c59749ce7a86eb64e_layers = {\n",
       "                base_layers : {\n",
       "                    &quot;openstreetmap&quot; : tile_layer_31bf8e77fd7416703d80def18d50d134,\n",
       "                },\n",
       "                overlays :  {\n",
       "                    &quot;Flood Extent&quot; : tile_layer_b0c2bc36f4bd54393d71ada94ebc2566,\n",
       "                },\n",
       "            };\n",
       "            let layer_control_0a3285fa343e4e6c59749ce7a86eb64e = L.control.layers(\n",
       "                layer_control_0a3285fa343e4e6c59749ce7a86eb64e_layers.base_layers,\n",
       "                layer_control_0a3285fa343e4e6c59749ce7a86eb64e_layers.overlays,\n",
       "                {\n",
       "  &quot;position&quot;: &quot;topright&quot;,\n",
       "  &quot;collapsed&quot;: true,\n",
       "  &quot;autoZIndex&quot;: true,\n",
       "}\n",
       "            ).addTo(map_ed1fcf69cb13f9e380368815bf5ce161);\n",
       "\n",
       "        \n",
       "&lt;/script&gt;\n",
       "&lt;/html&gt;\" style=\"position:absolute;width:100%;height:100%;left:0;top:0;border:none !important;\" allowfullscreen webkitallowfullscreen mozallowfullscreen></iframe></div></div>"
      ],
      "text/plain": [
       "<folium.folium.Map at 0x12ce8a3a0>"
      ]
     },
     "execution_count": 16,
     "metadata": {},
     "output_type": "execute_result"
    }
   ],
   "source": [
    "import ee\n",
    "import folium\n",
    "\n",
    "# Initialize the Earth Engine API\n",
    "ee.Initialize()\n",
    "\n",
    "# Define the geometry for India\n",
    "india_geometry = ee.Geometry.Polygon([\n",
    "    [68.1767, 7.9655], [68.1767, 35.5087], [97.4026, 35.5087], [97.4026, 7.9655], [68.1767, 7.9655]\n",
    "])\n",
    "\n",
    "# Load the Global Flood Database dataset\n",
    "flood_dataset = ee.ImageCollection(\"GLOBAL_FLOOD_DB/MODIS_EVENTS/V1\")\n",
    "\n",
    "# Function to get flood extent for a specific month and year\n",
    "def get_flood_extent(year, month):\n",
    "    start_date = ee.Date.fromYMD(year, month, 1)\n",
    "    end_date = start_date.advance(1, 'month')\n",
    "\n",
    "    # Filter flood data for the specific month\n",
    "    monthly_flood_collection = flood_dataset.filterDate(start_date, end_date)\n",
    "    \n",
    "    # Compute the flood extent for the month\n",
    "    flood_extent = monthly_flood_collection.map(lambda img: img.select(0).gt(0)).sum().clip(india_geometry)\n",
    "\n",
    "    return flood_extent\n",
    "\n",
    "# Define the year and month for which you want to visualize the flood extent\n",
    "year = 2014\n",
    "month = 8\n",
    "\n",
    "# Get the flood extent for the specified month and year\n",
    "flood_extent = get_flood_extent(year, month)\n",
    "\n",
    "# Define visualization parameters\n",
    "vis_params = {\n",
    "    'min': 0,\n",
    "    'max': 1,\n",
    "    'palette': ['white','cyan','blue']\n",
    "}\n",
    "\n",
    "# Create a folium map centered on India\n",
    "map_center = [20.5937, 78.9629]  # Latitude and Longitude of India\n",
    "m = folium.Map(location=map_center, zoom_start=5)\n",
    "\n",
    "# Add the flood extent layer to the map\n",
    "flood_extent_layer = folium.Map(\n",
    "    location=map_center,\n",
    "    zoom_start=5,\n",
    "    tiles='OpenStreetMap',\n",
    "    attr='Map data &copy; <a href=\"https://www.openstreetmap.org/copyright\">OpenStreetMap</a> contributors'\n",
    ")\n",
    "\n",
    "# Add the flood extent layer to the map\n",
    "flood_extent_layer.add_ee_layer(flood_extent, vis_params, 'Flood Extent')\n",
    "\n",
    "# Add a layer control panel to the map\n",
    "flood_extent_layer.add_child(folium.LayerControl())\n",
    "\n",
    "# Display the map\n",
    "flood_extent_layer"
   ]
  },
  {
   "cell_type": "code",
   "execution_count": 17,
   "metadata": {},
   "outputs": [
    {
     "data": {
      "text/html": [
       "\n",
       "            <style>\n",
       "                .geemap-dark {\n",
       "                    --jp-widgets-color: white;\n",
       "                    --jp-widgets-label-color: white;\n",
       "                    --jp-ui-font-color1: white;\n",
       "                    --jp-layout-color2: #454545;\n",
       "                    background-color: #383838;\n",
       "                }\n",
       "\n",
       "                .geemap-dark .jupyter-button {\n",
       "                    --jp-layout-color3: #383838;\n",
       "                }\n",
       "\n",
       "                .geemap-colab {\n",
       "                    background-color: var(--colab-primary-surface-color, white);\n",
       "                }\n",
       "\n",
       "                .geemap-colab .jupyter-button {\n",
       "                    --jp-layout-color3: var(--colab-primary-surface-color, white);\n",
       "                }\n",
       "            </style>\n",
       "            "
      ],
      "text/plain": [
       "<IPython.core.display.HTML object>"
      ]
     },
     "metadata": {},
     "output_type": "display_data"
    },
    {
     "name": "stdout",
     "output_type": "stream",
     "text": [
      "     Year  Month  Temperature (°C)\n",
      "0    2000      1         23.971952\n",
      "1    2000      2         24.980248\n",
      "2    2000      3         31.936219\n",
      "3    2000      4         40.047533\n",
      "4    2000      5         39.972355\n",
      "..    ...    ...               ...\n",
      "247  2020      8         33.145710\n",
      "248  2020      9         35.378898\n",
      "249  2020     10         35.340978\n",
      "250  2020     11         28.985533\n",
      "251  2020     12         25.510445\n",
      "\n",
      "[252 rows x 3 columns]\n"
     ]
    }
   ],
   "source": [
    "import pandas as pd\n",
    "\n",
    "# Load the temperature data from the CSV file\n",
    "temperature_file_path = \"/Users/prreddy/Projects/Rajasthan Data/Rajasthan_district_monthly_temperature_1981_2023.csv\"\n",
    "temperature_df = pd.read_csv(temperature_file_path)\n",
    "\n",
    "# Calculate the average monthly temperature for Rajasthan by averaging the monthly district temperatures\n",
    "average_monthly_temperature = temperature_df.groupby(['Year', 'Month'])['Temperature (°C)'].mean().reset_index()\n",
    "\n",
    "# Print the average monthly temperature\n",
    "print(average_monthly_temperature)\n",
    "\n",
    "# Save the average monthly temperature to a new CSV file\n",
    "average_monthly_temperature.to_csv(\"rajasthan_average_monthly_temperature_1981_2023.csv\", index=False)"
   ]
  },
  {
   "cell_type": "code",
   "execution_count": 26,
   "metadata": {},
   "outputs": [
    {
     "data": {
      "text/html": [
       "\n",
       "            <style>\n",
       "                .geemap-dark {\n",
       "                    --jp-widgets-color: white;\n",
       "                    --jp-widgets-label-color: white;\n",
       "                    --jp-ui-font-color1: white;\n",
       "                    --jp-layout-color2: #454545;\n",
       "                    background-color: #383838;\n",
       "                }\n",
       "\n",
       "                .geemap-dark .jupyter-button {\n",
       "                    --jp-layout-color3: #383838;\n",
       "                }\n",
       "\n",
       "                .geemap-colab {\n",
       "                    background-color: var(--colab-primary-surface-color, white);\n",
       "                }\n",
       "\n",
       "                .geemap-colab .jupyter-button {\n",
       "                    --jp-layout-color3: var(--colab-primary-surface-color, white);\n",
       "                }\n",
       "            </style>\n",
       "            "
      ],
      "text/plain": [
       "<IPython.core.display.HTML object>"
      ]
     },
     "metadata": {},
     "output_type": "display_data"
    },
    {
     "name": "stdout",
     "output_type": "stream",
     "text": [
      "    Year  Temperature (°C)\n",
      "0   2000         32.939668\n",
      "1   2001         32.759002\n",
      "2   2002         33.648551\n",
      "3   2003         32.460338\n",
      "4   2004         33.384171\n",
      "5   2005         32.530394\n",
      "6   2006         33.065610\n",
      "7   2007         32.977576\n",
      "8   2008         32.606851\n",
      "9   2009         33.699794\n",
      "10  2010         33.370101\n",
      "11  2011         32.564614\n",
      "12  2012         32.499132\n",
      "13  2013         32.225135\n",
      "14  2014         32.733654\n",
      "15  2015         32.651855\n",
      "16  2016         31.312672\n",
      "17  2017         31.385482\n",
      "18  2018         31.612593\n",
      "19  2019         30.255615\n",
      "20  2020         31.378144\n"
     ]
    },
    {
     "data": {
      "image/png": "[encoded data removed]",
      "text/plain": [
       "<Figure size 1400x800 with 1 Axes>"
      ]
     },
     "metadata": {},
     "output_type": "display_data"
    }
   ],
   "source": [
    "import pandas as pd\n",
    "import matplotlib.pyplot as plt\n",
    "\n",
    "# Load the temperature data from the CSV file\n",
    "temperature_file_path = \"/Users/prreddy/Projects/Rajasthan Data/Rajasthan_district_monthly_temperature_1981_2023.csv\"\n",
    "temperature_df = pd.read_csv(temperature_file_path)\n",
    "\n",
    "# Calculate the average yearly temperature for Rajasthan by averaging the monthly district temperatures\n",
    "average_yearly_temperature = temperature_df.groupby(['Year'])['Temperature (°C)'].mean().reset_index()\n",
    "\n",
    "# Print the average yearly temperature\n",
    "print(average_yearly_temperature)\n",
    "\n",
    "# Plotting the yearly average temperature\n",
    "plt.figure(figsize=(14, 8))\n",
    "plt.plot(average_yearly_temperature['Year'], average_yearly_temperature['Temperature (°C)'], marker='o', color='r', label='Average Temperature (°C)')\n",
    "\n",
    "plt.title('Yearly Average Temperature in Rajasthan (1981-2023)')\n",
    "plt.xlabel('Year')\n",
    "plt.ylabel('Temperature (°C)')\n",
    "plt.grid(True)\n",
    "plt.legend()\n",
    "plt.tight_layout()\n",
    "\n",
    "# Save the plot to a file\n",
    "plt.savefig(\"yearly_average_temperature_rajasthan_1981_2023.png\")\n",
    "\n",
    "# Show the plot\n",
    "plt.show()"
   ]
  },
  {
   "cell_type": "code",
   "execution_count": null,
   "metadata": {},
   "outputs": [
    {
     "name": "stdout",
     "output_type": "stream",
     "text": [
      "    Year  Temperature (°C)  Tree Cover (%)  Rainfall (mm)\n",
      "0   2000         32.939668        2.485258   16405.761366\n",
      "1   2001         32.759002        1.911933   18603.125572\n",
      "2   2002         33.648551        2.213639    9344.690226\n",
      "3   2003         32.460338        1.919272   18590.801075\n",
      "4   2004         33.384171        2.226891   18309.544611\n",
      "5   2005         32.530394        2.978549   18146.878416\n",
      "6   2006         33.065610        2.881220   19545.830782\n",
      "7   2007         32.977576        2.347654   17474.164451\n",
      "8   2008         32.606851        2.945822   19193.174310\n",
      "9   2009         33.699794        2.548756   14502.967013\n",
      "10  2010         33.370101        2.269159   24151.440680\n",
      "11  2011         32.564614        2.044512   23686.755283\n",
      "12  2012         32.499132        3.229048   22583.595071\n",
      "13  2013         32.225135        4.183519   26413.947701\n",
      "14  2014         32.733654        3.501127   18257.898655\n",
      "15  2015         32.651855        3.081871   17043.169645\n",
      "16  2016         31.312672        2.453410   26246.032920\n",
      "17  2017         31.385482        3.082718   18671.978336\n",
      "18  2018         31.612593        2.648871   22312.589710\n",
      "19  2019         30.255615        3.463761   27296.561669\n",
      "20  2020         31.378144        4.515497   22109.556116\n"
     ]
    }
   ],
   "source": [
    "import pandas as pd\n",
    "\n",
    "# Load the data from the CSV files\n",
    "temperature_file_path = \"/Users/prreddy/Projects/Rajasthan Data/Rajasthan_district_monthly_temperature_1981_2023.csv\"\n",
    "tree_cover_file_path = \"/Users/prreddy/Projects/Rajasthan Data/Rajasthan_district_annual_tree_cover_2000_2020.csv\"\n",
    "rainfall_file_path = \"/Users/prreddy/Projects/Rajasthan Data/Rajasthan_district_monthly_rainfall_1981_2023.csv\"\n",
    "flooding_file_path = \"/Users/prreddy/Projects/Rajasthan Data/Rajasthan_district_monthly_flooding_2000_2023.csv\"\n",
    "\n",
    "temperature_df = pd.read_csv(temperature_file_path)\n",
    "tree_cover_df = pd.read_csv(tree_cover_file_path)\n",
    "rainfall_df = pd.read_csv(rainfall_file_path)\n",
    "flooding_df = pd.read_csv(flooding_file_path)\n",
    "\n",
    "# Calculate the average yearly temperature for Rajasthan\n",
    "average_yearly_temperature = temperature_df.groupby(['Year'])['Temperature (°C)'].mean().reset_index()\n",
    "\n",
    "# Calculate the average yearly tree cover for Rajasthan\n",
    "average_yearly_tree_cover = tree_cover_df.groupby(['Year'])['Tree Cover (%)'].mean().reset_index()\n",
    "\n",
    "# Calculate the total yearly precipitation for Rajasthan\n",
    "total_yearly_precipitation = rainfall_df.groupby(['Year'])['Rainfall (mm)'].sum().reset_index()\n",
    "\n",
    "# Calculate the total yearly flood events and flood extent for Rajasthan\n",
    "total_yearly_flooding = flooding_df.groupby(['Year'])[['Flood Events', 'Flood Extent (sq km)']].sum().reset_index()\n",
    "\n",
    "# Merge the dataframes on Year\n",
    "merged_df = pd.merge(average_yearly_temperature, average_yearly_tree_cover, on='Year')\n",
    "merged_df = pd.merge(merged_df, total_yearly_precipitation, on='Year')\n",
    "merged_df = pd.merge(merged_df, total_yearly_flooding, on='Year')\n",
    "\n",
    "# Print the merged dataframe\n",
    "print(merged_df)\n",
    "\n",
    "# Save the merged dataframe to a new CSV file\n",
    "merged_df.to_csv(\"Rajasthan_yearly_climate_data.csv\", index=False)"
   ]
  },
  {
   "cell_type": "code",
   "execution_count": 13,
   "metadata": {},
   "outputs": [
    {
     "data": {
      "image/png": "[encoded data removed]",
      "text/plain": [
       "<Figure size 1600x1000 with 3 Axes>"
      ]
     },
     "metadata": {},
     "output_type": "display_data"
    },
    {
     "name": "stdout",
     "output_type": "stream",
     "text": [
      "Plot saved for Rajasthan\n"
     ]
    }
   ],
   "source": [
    "import pandas as pd\n",
    "import matplotlib.pyplot as plt\n",
    "import os\n",
    "\n",
    "# Load the yearly climate data from the CSV file\n",
    "climate_data_file_path = \"/Users/prreddy/Projects/Rajasthan Data/Rajasthan_yearly_climate_data.csv\"\n",
    "climate_df = pd.read_csv(climate_data_file_path)\n",
    "\n",
    "# Create the output directory if it doesn't exist\n",
    "output_dir = \"Rajasthan_yearly_climate_plots\"\n",
    "os.makedirs(output_dir, exist_ok=True)\n",
    "\n",
    "# Plotting\n",
    "plt.figure(figsize=(16, 10))\n",
    "\n",
    "# Plot temperature\n",
    "plt.subplot(5, 1, 1)\n",
    "plt.plot(climate_df['Year'], climate_df['Temperature (°C)'], marker='o', color='r', label='Temperature (°C)')\n",
    "plt.title('Annual Temperature in Rajasthan (2000-2020)')\n",
    "plt.xlabel('Year')\n",
    "plt.ylabel('Temperature (°C)')\n",
    "plt.grid(True)\n",
    "plt.legend()\n",
    "\n",
    "# Plot rainfall\n",
    "plt.subplot(5, 1, 2)\n",
    "plt.plot(climate_df['Year'], climate_df['Rainfall (mm)'], marker='o', color='b', label='Rainfall (mm)')\n",
    "plt.title('Annual Rainfall in Rajasthan (2000-2020)')\n",
    "plt.xlabel('Year')\n",
    "plt.ylabel('Rainfall (mm)')\n",
    "plt.grid(True)\n",
    "plt.legend()\n",
    "\n",
    "# Plot tree cover\n",
    "plt.subplot(5, 1, 3)\n",
    "plt.plot(climate_df['Year'], climate_df['Tree Cover (%)'], marker='o', color='g', label='Tree Cover (%)')\n",
    "plt.title('Annual Tree Cover in Rajasthan (2000-2020)')\n",
    "plt.xlabel('Year')\n",
    "plt.ylabel('Tree Cover (%)')\n",
    "plt.grid(True)\n",
    "plt.legend()\n",
    "\n",
    "# # Plot flood extent\n",
    "plt.subplot(5, 1, 4)\n",
    "plt.plot(climate_df['Year'], climate_df['Flood Extent (sq km)'], marker='o', color='purple', label='Flood Extent (sq km)')\n",
    "plt.title('Annual Flood Extent in Rajasthan (2000-2020)')\n",
    "plt.xlabel('Year')\n",
    "plt.ylabel('Flood Extent (sq km)')\n",
    "plt.grid(True)\n",
    "plt.legend()\n",
    "\n",
    "plt.tight_layout()\n",
    "\n",
    "# Save the plot to the output directory\n",
    "plt.savefig(os.path.join(output_dir, 'Rajasthan_yearly_climate_trends.png'))\n",
    "plt.show()\n",
    "plt.close()  # Close the figure to free up memory\n",
    "\n",
    "print(\"Plot saved for Rajasthan\")\n",
    "\n",
    "# Show the plot\n",
    "plt.show()"
   ]
  },
  {
   "cell_type": "code",
   "execution_count": 83,
   "metadata": {},
   "outputs": [
    {
     "data": {
      "text/html": [
       "\n",
       "            <style>\n",
       "                .geemap-dark {\n",
       "                    --jp-widgets-color: white;\n",
       "                    --jp-widgets-label-color: white;\n",
       "                    --jp-ui-font-color1: white;\n",
       "                    --jp-layout-color2: #454545;\n",
       "                    background-color: #383838;\n",
       "                }\n",
       "\n",
       "                .geemap-dark .jupyter-button {\n",
       "                    --jp-layout-color3: #383838;\n",
       "                }\n",
       "\n",
       "                .geemap-colab {\n",
       "                    background-color: var(--colab-primary-surface-color, white);\n",
       "                }\n",
       "\n",
       "                .geemap-colab .jupyter-button {\n",
       "                    --jp-layout-color3: var(--colab-primary-surface-color, white);\n",
       "                }\n",
       "            </style>\n",
       "            "
      ],
      "text/plain": [
       "<IPython.core.display.HTML object>"
      ]
     },
     "metadata": {},
     "output_type": "display_data"
    },
    {
     "data": {
      "image/png": "[encoded data removed]",
      "text/plain": [
       "<Figure size 2100x800 with 3 Axes>"
      ]
     },
     "metadata": {},
     "output_type": "display_data"
    }
   ],
   "source": [
    "import pandas as pd\n",
    "import matplotlib.pyplot as plt\n",
    "\n",
    "# Load the rainfall data from the CSV file\n",
    "rainfall_file_path = \"/Users/prreddy/Projects/Assam Data/Assam_district_monthly_rainfall_1981_2023.csv\"\n",
    "rainfall_df = pd.read_csv(rainfall_file_path)\n",
    "\n",
    "# Filter data for the years 1985, 2000, and 2020\n",
    "rainfall_1985 = rainfall_df[rainfall_df['Year'] == 1985]\n",
    "rainfall_2000 = rainfall_df[rainfall_df['Year'] == 2000]\n",
    "rainfall_2020 = rainfall_df[rainfall_df['Year'] == 2020]\n",
    "\n",
    "# Group by Month and calculate the total rainfall for each month\n",
    "monthly_rainfall_1985 = rainfall_1985.groupby('Month')['Rainfall (mm)'].sum().reset_index()\n",
    "monthly_rainfall_2000 = rainfall_2000.groupby('Month')['Rainfall (mm)'].sum().reset_index()\n",
    "monthly_rainfall_2020 = rainfall_2020.groupby('Month')['Rainfall (mm)'].sum().reset_index()\n",
    "\n",
    "# Plotting the monthly rainfall histograms side by side\n",
    "fig, axes = plt.subplots(nrows=1, ncols=3, figsize=(21, 8), sharey=True)\n",
    "\n",
    "# Plot for the year 1985\n",
    "axes[0].bar(monthly_rainfall_1985['Month'], monthly_rainfall_1985['Rainfall (mm)'], color='b', alpha=0.7)\n",
    "axes[0].set_title('Monthly Rainfall in Assam (1985)')\n",
    "axes[0].set_xlabel('Month')\n",
    "axes[0].set_ylabel('Rainfall (mm)')\n",
    "axes[0].grid(True)\n",
    "\n",
    "# Plot for the year 2000\n",
    "axes[1].bar(monthly_rainfall_2000['Month'], monthly_rainfall_2000['Rainfall (mm)'], color='g', alpha=0.7)\n",
    "axes[1].set_title('Monthly Rainfall in Assam (2000)')\n",
    "axes[1].set_xlabel('Month')\n",
    "axes[1].grid(True)\n",
    "\n",
    "# Plot for the year 2020\n",
    "axes[2].bar(monthly_rainfall_2020['Month'], monthly_rainfall_2020['Rainfall (mm)'], color='r', alpha=0.7)\n",
    "axes[2].set_title('Monthly Rainfall in Assam (2020)')\n",
    "axes[2].set_xlabel('Month')\n",
    "axes[2].grid(True)\n",
    "\n",
    "# Adjust layout\n",
    "plt.tight_layout()\n",
    "\n",
    "# Save the plot to a file\n",
    "plt.savefig(\"Assam_monthly_rainfall_1985_2000_2020.png\")\n",
    "\n",
    "# Show the plot\n",
    "plt.show()"
   ]
  },
  {
   "cell_type": "code",
   "execution_count": 16,
   "metadata": {},
   "outputs": [
    {
     "data": {
      "application/vnd.jupyter.widget-view+json": {
       "model_id": "34d243985c084b0ea3146c6950a0eebc",
       "version_major": 2,
       "version_minor": 0
      },
      "text/plain": [
       "Map(center=[22.0, 78.0], controls=(WidgetControl(options=['position', 'transparent_bg'], widget=SearchDataGUI(…"
      ]
     },
     "execution_count": 16,
     "metadata": {},
     "output_type": "execute_result"
    },
    {
     "name": "stderr",
     "output_type": "stream",
     "text": [
      "No such comm: ad7103dcbd004a3080c78681299fe625\n",
      "No such comm: 06106317cb1e436bb5c1757d23a1069e\n",
      "No such comm: 9c9e65076627489e9cb646af5746a372\n",
      "No such comm: a572065a17f74fcc9b6353f43d29b7c7\n",
      "No such comm: 71ae0966a1f144b98553f890b0e57d99\n",
      "No such comm: a42072a1825f42a0945d5f6286a771ab\n",
      "No such comm: 827e7d475b1e4e9f8f1674f03d87890e\n",
      "No such comm: 80ffb2cd5ba04be398a30e1f2b930a85\n",
      "No such comm: 3d9100b7d94d48cb954f785f3e793279\n",
      "No such comm: 3719decb2a0749b38edc40b639724c8b\n",
      "No such comm: 312fbac334814a78aebfbb867ad3214a\n",
      "No such comm: 5af8bac802a74887a0d07bddd9106fd7\n",
      "No such comm: 710380a59aa045f4a1a72780cb6c990e\n",
      "No such comm: e88df6c48b5941c8bf59bafb736a3f58\n",
      "No such comm: 9536f9aabb6d4b44b7ace38145290b8a\n",
      "No such comm: e618c653d60f416ea62e0a0c2ebd73ce\n",
      "No such comm: ef93c557f3eb466abffa1952cef6b879\n",
      "No such comm: ed16750653b347dab577b56fac59afe2\n",
      "No such comm: 64c8a19a958b453689694355b663f841\n",
      "No such comm: fd705a574b1542daa5481b31544b9ed3\n",
      "No such comm: fd705a574b1542daa5481b31544b9ed3\n",
      "No such comm: e274d4f807b34548bdcbe83ec667b417\n",
      "No such comm: a1ca5a361c31462c9ab0ed7d22890995\n",
      "No such comm: a1ca5a361c31462c9ab0ed7d22890995\n",
      "No such comm: 68f7f0df606348ea83ba365ffaa516f6\n",
      "No such comm: 6df66d2edda44443a073604d8ea2005a\n",
      "No such comm: c5298054f86541078bd27ac30fc20d61\n",
      "No such comm: d761102b31134b2abdf5931e6a324877\n",
      "No such comm: 071b787b4800452ca9065ced3cefbabd\n",
      "No such comm: b3a1bca0ead54e66a3c1d96268ba9b7f\n",
      "No such comm: 26365f881f434986b6bab7712396db09\n",
      "No such comm: 1f9c58f03def485f9fb43bba41dbc5d3\n",
      "No such comm: d36bf7f498b74f029e7fcedec733cd9c\n",
      "No such comm: 17465339a7174aea9bf16ce0b8693fdb\n",
      "No such comm: e96c2c70eaf64bf4a7e624eba36752ae\n",
      "No such comm: fc66b64aadf84c9e8820a3995a75d4e0\n",
      "No such comm: 56c9b0f067e948aab4a0ae7e36dbb1df\n",
      "No such comm: 8a574a97ce9f47719ff072ed425b0860\n",
      "No such comm: 0f1870f776c143daa16070e6766afd03\n",
      "No such comm: cfffcc1bfff140deb44fdeddcb4f812d\n",
      "No such comm: b8a1187ccf3d4c05b27a19d3a0d2aa91\n",
      "No such comm: 412846815f6a46b29af8fb7640d0a1a8\n",
      "No such comm: 2494d2523dc4463c8325edd900487b5c\n"
     ]
    }
   ],
   "source": [
    "import ee\n",
    "import folium\n",
    "import geemap\n",
    "\n",
    "# Initialize Earth Engine\n",
    "ee.Initialize()\n",
    "\n",
    "# Define India's boundary\n",
    "india_boundary = ee.FeatureCollection(\"USDOS/LSIB_SIMPLE/2017\") \\\n",
    "    .filter(ee.Filter.eq('country_na', 'India'))\n",
    "\n",
    "# Load NOAA CPC Temperature dataset and select the tmax band\n",
    "temperature_dataset = ee.ImageCollection(\"NOAA/CPC/Temperature\").select(\"tmax\")\n",
    "\n",
    "# Improved visualization parameters\n",
    "temp_vis_params = {\n",
    "    'min': 10,   # Adjust to India's temperature range\n",
    "    'max': 50,   # Tmax values can go higher\n",
    "    'palette': ['blue', 'cyan', 'yellow', 'orange', 'red'],\n",
    "    'opacity': 0.8  # Enhances visibility\n",
    "}\n",
    "\n",
    "# Generate annual mean temperature images from 2000 to 2020 with high resolution\n",
    "years = list(range(2000, 2021))\n",
    "annual_images = []\n",
    "for year in years:\n",
    "    start_date = f\"{year}-01-01\"\n",
    "    end_date = f\"{year}-12-31\"\n",
    "    yearly_temp = temperature_dataset.filterDate(start_date, end_date).mean().clip(india_boundary)\n",
    "    \n",
    "    # Apply smoothing filter to improve quality\n",
    "    smoothed_temp = yearly_temp.focal_mean(radius=3, kernelType='square')\n",
    "\n",
    "    # Set default projection and increase image resolution by reducing scale\n",
    "    high_res_temp = smoothed_temp.setDefaultProjection(\n",
    "        crs='EPSG:4326', scale=5000\n",
    "    ).reduceResolution(\n",
    "        reducer=ee.Reducer.mean(), bestEffort=True\n",
    "    ).reproject(crs='EPSG:4326', scale=2500)  # Higher resolution (default ~5000m)\n",
    "\n",
    "    annual_images.append(high_res_temp.set(\"system:time_start\", ee.Date(start_date).millis()))\n",
    "\n",
    "# Convert list to ImageCollection\n",
    "annual_temp_collection = ee.ImageCollection(annual_images)\n",
    "\n",
    "# Create a Folium map centered on India\n",
    "map_center = [22.0, 78.0]  # Center of India\n",
    "m = geemap.Map(center=map_center, zoom=4)\n",
    "\n",
    "# Add annual temperature images as layers\n",
    "for year in years:\n",
    "    image = annual_temp_collection.filter(ee.Filter.calendarRange(year, year, \"year\")).first()\n",
    "    m.addLayer(image, temp_vis_params, f\"Tmax {year}\")\n",
    "\n",
    "# Add a time slider widget\n",
    "m.add_time_slider(annual_temp_collection, temp_vis_params, time_interval=1, position=\"bottomright\")\n",
    "\n",
    "# Display the map\n",
    "m\n"
   ]
  },
  {
   "cell_type": "code",
   "execution_count": 18,
   "metadata": {},
   "outputs": [
    {
     "data": {
      "text/html": [
       "\n",
       "            <style>\n",
       "                .geemap-dark {\n",
       "                    --jp-widgets-color: white;\n",
       "                    --jp-widgets-label-color: white;\n",
       "                    --jp-ui-font-color1: white;\n",
       "                    --jp-layout-color2: #454545;\n",
       "                    background-color: #383838;\n",
       "                }\n",
       "\n",
       "                .geemap-dark .jupyter-button {\n",
       "                    --jp-layout-color3: #383838;\n",
       "                }\n",
       "\n",
       "                .geemap-colab {\n",
       "                    background-color: var(--colab-primary-surface-color, white);\n",
       "                }\n",
       "\n",
       "                .geemap-colab .jupyter-button {\n",
       "                    --jp-layout-color3: var(--colab-primary-surface-color, white);\n",
       "                }\n",
       "            </style>\n",
       "            "
      ],
      "text/plain": [
       "<IPython.core.display.HTML object>"
      ]
     },
     "metadata": {},
     "output_type": "display_data"
    },
    {
     "name": "stdout",
     "output_type": "stream",
     "text": [
      "Timelapse video URL: https://earthengine.googleapis.com/v1/projects/83314568096/videoThumbnails/e845c41bdc2c998750f984b6f7f2b9ee-6049aac6c93018a985a1b072b3940c9c:getPixels\n"
     ]
    }
   ],
   "source": [
    "import ee\n",
    "import geemap\n",
    "\n",
    "# Initialize the Earth Engine API\n",
    "ee.Initialize()\n",
    "\n",
    "# Define India's boundary\n",
    "india_boundary = ee.FeatureCollection(\"USDOS/LSIB_SIMPLE/2017\").filter(ee.Filter.eq('country_na', 'India'))\n",
    "\n",
    "# Load NOAA CPC Temperature dataset and select the tmax band\n",
    "temperature_dataset = ee.ImageCollection(\"NOAA/CPC/Temperature\").select(\"tmax\")\n",
    "\n",
    "# Define visualization parameters\n",
    "vis_params = {\n",
    "    'min': 10,\n",
    "    'max': 50,\n",
    "    'palette': ['blue', 'cyan', 'yellow', 'orange', 'red']\n",
    "}\n",
    "\n",
    "# Generate annual mean temperature images from 2000 to 2020\n",
    "years = list(range(2000, 2021))\n",
    "annual_images = []\n",
    "for year in years:\n",
    "    start_date = f\"{year}-01-01\"\n",
    "    end_date = f\"{year}-12-31\"\n",
    "    yearly_temp = temperature_dataset.filterDate(start_date, end_date).mean().clip(india_boundary)\n",
    "    annual_images.append(yearly_temp.set(\"system:time_start\", ee.Date(start_date).millis()))\n",
    "\n",
    "# Convert list to ImageCollection\n",
    "annual_temp_collection = ee.ImageCollection(annual_images)\n",
    "\n",
    "# Create a timelapse video\n",
    "video_args = {\n",
    "    'dimensions': 720,\n",
    "    'region': india_boundary.geometry().bounds(),\n",
    "    'framesPerSecond': 2,\n",
    "    'crs': 'EPSG:4326',\n",
    "    'min': 10,\n",
    "    'max': 50,\n",
    "    'palette': ['blue', 'cyan', 'yellow', 'orange', 'red']\n",
    "}\n",
    "\n",
    "# Generate the URL for the timelapse video\n",
    "video_url = annual_temp_collection.getVideoThumbURL(video_args)\n",
    "print(\"Timelapse video URL:\", video_url)"
   ]
  },
  {
   "cell_type": "code",
   "execution_count": 31,
   "metadata": {},
   "outputs": [
    {
     "data": {
      "text/html": [
       "\n",
       "            <style>\n",
       "                .geemap-dark {\n",
       "                    --jp-widgets-color: white;\n",
       "                    --jp-widgets-label-color: white;\n",
       "                    --jp-ui-font-color1: white;\n",
       "                    --jp-layout-color2: #454545;\n",
       "                    background-color: #383838;\n",
       "                }\n",
       "\n",
       "                .geemap-dark .jupyter-button {\n",
       "                    --jp-layout-color3: #383838;\n",
       "                }\n",
       "\n",
       "                .geemap-colab {\n",
       "                    background-color: var(--colab-primary-surface-color, white);\n",
       "                }\n",
       "\n",
       "                .geemap-colab .jupyter-button {\n",
       "                    --jp-layout-color3: var(--colab-primary-surface-color, white);\n",
       "                }\n",
       "            </style>\n",
       "            "
      ],
      "text/plain": [
       "<IPython.core.display.HTML object>"
      ]
     },
     "metadata": {},
     "output_type": "display_data"
    },
    {
     "name": "stdout",
     "output_type": "stream",
     "text": [
      "Timelapse video URL: https://earthengine.googleapis.com/v1/projects/83314568096/videoThumbnails/e845c41bdc2c998750f984b6f7f2b9ee-0adf89aa01385cb1b0ce31087fefe737:getPixels\n",
      "Video saved as timelapse_video.mp4\n"
     ]
    }
   ],
   "source": [
    "import ee\n",
    "import geemap\n",
    "import requests\n",
    "\n",
    "# Initialize the Earth Engine API\n",
    "ee.Initialize()\n",
    "\n",
    "# Define India's boundary\n",
    "india_boundary = ee.FeatureCollection(\"USDOS/LSIB_SIMPLE/2017\").filter(ee.Filter.eq('country_na', 'India'))\n",
    "\n",
    "# Load NOAA CPC Temperature dataset and select the tmax band\n",
    "temperature_dataset = ee.ImageCollection(\"NOAA/CPC/Temperature\").select(\"tmax\")\n",
    "\n",
    "# Define visualization parameters\n",
    "vis_params = {\n",
    "    'min': 10,\n",
    "    'max': 50,\n",
    "    'palette': ['blue', 'cyan', 'yellow', 'orange', 'red']\n",
    "}\n",
    "\n",
    "# Generate annual mean temperature images from 2000 to 2020\n",
    "years = list(range(2000, 2021))\n",
    "annual_images = []\n",
    "for year in years:\n",
    "    start_date = f\"{year}-01-01\"\n",
    "    end_date = f\"{year}-12-31\"\n",
    "    yearly_temp = temperature_dataset.filterDate(start_date, end_date).mean().clip(india_boundary)\n",
    "    annual_images.append(yearly_temp.set(\"system:time_start\", ee.Date(start_date).millis()))\n",
    "\n",
    "# Convert list to ImageCollection\n",
    "annual_temp_collection = ee.ImageCollection(annual_images)\n",
    "\n",
    "# Create a timelapse video\n",
    "video_args = {\n",
    "    'dimensions': 720,\n",
    "    'region': india_boundary.geometry().bounds(),\n",
    "    'framesPerSecond': 2,\n",
    "    'crs': 'EPSG:4326',\n",
    "    'min': 10,\n",
    "    'max': 50,\n",
    "    'palette': ['blue', 'cyan', 'yellow', 'orange', 'red']\n",
    "}\n",
    "\n",
    "# Generate the URL for the timelapse video\n",
    "video_url = annual_temp_collection.getVideoThumbURL(video_args)\n",
    "print(\"Timelapse video URL:\", video_url)\n",
    "\n",
    "# Download the video\n",
    "response = requests.get(video_url, stream=True)\n",
    "video_file_path = 'timelapse_video.mp4'\n",
    "\n",
    "with open(video_file_path, 'wb') as video_file:\n",
    "    for chunk in response.iter_content(chunk_size=1024):\n",
    "        if chunk:\n",
    "            video_file.write(chunk)\n",
    "\n",
    "print(f\"Video saved as {video_file_path}\")"
   ]
  },
  {
   "cell_type": "code",
   "execution_count": 33,
   "metadata": {},
   "outputs": [
    {
     "data": {
      "text/html": [
       "\n",
       "            <style>\n",
       "                .geemap-dark {\n",
       "                    --jp-widgets-color: white;\n",
       "                    --jp-widgets-label-color: white;\n",
       "                    --jp-ui-font-color1: white;\n",
       "                    --jp-layout-color2: #454545;\n",
       "                    background-color: #383838;\n",
       "                }\n",
       "\n",
       "                .geemap-dark .jupyter-button {\n",
       "                    --jp-layout-color3: #383838;\n",
       "                }\n",
       "\n",
       "                .geemap-colab {\n",
       "                    background-color: var(--colab-primary-surface-color, white);\n",
       "                }\n",
       "\n",
       "                .geemap-colab .jupyter-button {\n",
       "                    --jp-layout-color3: var(--colab-primary-surface-color, white);\n",
       "                }\n",
       "            </style>\n",
       "            "
      ],
      "text/plain": [
       "<IPython.core.display.HTML object>"
      ]
     },
     "metadata": {},
     "output_type": "display_data"
    },
    {
     "name": "stderr",
     "output_type": "stream",
     "text": [
      "2025-02-08 22:28:46.382 Python[1630:3250943] +[IMKClient subclass]: chose IMKClient_Modern\n",
      "2025-02-08 22:28:46.382 Python[1630:3250943] +[IMKInputSession subclass]: chose IMKInputSession_Modern\n"
     ]
    },
    {
     "ename": "",
     "evalue": "",
     "output_type": "error",
     "traceback": [
      "\u001b[1;31mThe Kernel crashed while executing code in the current cell or a previous cell. \n",
      "\u001b[1;31mPlease review the code in the cell(s) to identify a possible cause of the failure. \n",
      "\u001b[1;31mClick <a href='https://aka.ms/vscodeJupyterKernelCrash'>here</a> for more info. \n",
      "\u001b[1;31mView Jupyter <a href='command:jupyter.viewOutput'>log</a> for further details."
     ]
    }
   ],
   "source": [
    "import cv2\n",
    "\n",
    "# Path to the video file\n",
    "video_file_path = 'timelapse_video.mp4'\n",
    "\n",
    "# Open the video file\n",
    "cap = cv2.VideoCapture(video_file_path)\n",
    "\n",
    "# Check if the video file opened successfully\n",
    "if not cap.isOpened():\n",
    "    print(\"Error: Could not open video file.\")\n",
    "else:\n",
    "    # Read and display frames in a loop\n",
    "    while cap.isOpened():\n",
    "        ret, frame = cap.read()\n",
    "        if ret:\n",
    "            cv2.imshow('Video', frame)\n",
    "            # Press 'q' to exit the video\n",
    "            if cv2.waitKey(25) & 0xFF == ord('q'):\n",
    "                break\n",
    "        else:\n",
    "            break\n",
    "\n",
    "    # Release the video capture object and close all OpenCV windows\n",
    "    cap.release()\n",
    "    cv2.destroyAllWindows()"
   ]
  },
  {
   "cell_type": "code",
   "execution_count": 2,
   "metadata": {},
   "outputs": [
    {
     "data": {
      "text/html": [
       "\n",
       "            <style>\n",
       "                .geemap-dark {\n",
       "                    --jp-widgets-color: white;\n",
       "                    --jp-widgets-label-color: white;\n",
       "                    --jp-ui-font-color1: white;\n",
       "                    --jp-layout-color2: #454545;\n",
       "                    background-color: #383838;\n",
       "                }\n",
       "\n",
       "                .geemap-dark .jupyter-button {\n",
       "                    --jp-layout-color3: #383838;\n",
       "                }\n",
       "\n",
       "                .geemap-colab {\n",
       "                    background-color: var(--colab-primary-surface-color, white);\n",
       "                }\n",
       "\n",
       "                .geemap-colab .jupyter-button {\n",
       "                    --jp-layout-color3: var(--colab-primary-surface-color, white);\n",
       "                }\n",
       "            </style>\n",
       "            "
      ],
      "text/plain": [
       "<IPython.core.display.HTML object>"
      ]
     },
     "metadata": {},
     "output_type": "display_data"
    },
    {
     "data": {
      "application/vnd.jupyter.widget-view+json": {
       "model_id": "ac095b5f082c4e1e8e20f0a080d10ecf",
       "version_major": 2,
       "version_minor": 0
      },
      "text/plain": [
       "india_temperature_2000_01.png: |          | 0.00/83.4M (raw) [  0.0%] in 00:00 (eta:     ?)"
      ]
     },
     "metadata": {},
     "output_type": "display_data"
    },
    {
     "name": "stderr",
     "output_type": "stream",
     "text": [
      "There is no STAC entry for: None\n"
     ]
    },
    {
     "name": "stdout",
     "output_type": "stream",
     "text": [
      "Saved image: india_monthly_temperature_maps/india_temperature_2000_01.png\n"
     ]
    },
    {
     "data": {
      "application/vnd.jupyter.widget-view+json": {
       "model_id": "0e4a64a5b9404b289715b006b250a755",
       "version_major": 2,
       "version_minor": 0
      },
      "text/plain": [
       "india_temperature_2000_02.png: |          | 0.00/83.4M (raw) [  0.0%] in 00:00 (eta:     ?)"
      ]
     },
     "metadata": {},
     "output_type": "display_data"
    },
    {
     "name": "stdout",
     "output_type": "stream",
     "text": [
      "Saved image: india_monthly_temperature_maps/india_temperature_2000_02.png\n"
     ]
    },
    {
     "data": {
      "application/vnd.jupyter.widget-view+json": {
       "model_id": "be7ab379acff4204be1355020e33af90",
       "version_major": 2,
       "version_minor": 0
      },
      "text/plain": [
       "india_temperature_2000_03.png: |          | 0.00/83.4M (raw) [  0.0%] in 00:00 (eta:     ?)"
      ]
     },
     "metadata": {},
     "output_type": "display_data"
    },
    {
     "name": "stdout",
     "output_type": "stream",
     "text": [
      "Saved image: india_monthly_temperature_maps/india_temperature_2000_03.png\n"
     ]
    },
    {
     "data": {
      "application/vnd.jupyter.widget-view+json": {
       "model_id": "b73396d6a4df42158229d5772576d281",
       "version_major": 2,
       "version_minor": 0
      },
      "text/plain": [
       "india_temperature_2000_04.png: |          | 0.00/83.4M (raw) [  0.0%] in 00:00 (eta:     ?)"
      ]
     },
     "metadata": {},
     "output_type": "display_data"
    },
    {
     "name": "stdout",
     "output_type": "stream",
     "text": [
      "Saved image: india_monthly_temperature_maps/india_temperature_2000_04.png\n"
     ]
    },
    {
     "data": {
      "application/vnd.jupyter.widget-view+json": {
       "model_id": "d8ef84f5aee74a5691b6a48744ec37c3",
       "version_major": 2,
       "version_minor": 0
      },
      "text/plain": [
       "india_temperature_2000_05.png: |          | 0.00/83.4M (raw) [  0.0%] in 00:00 (eta:     ?)"
      ]
     },
     "metadata": {},
     "output_type": "display_data"
    },
    {
     "name": "stdout",
     "output_type": "stream",
     "text": [
      "Saved image: india_monthly_temperature_maps/india_temperature_2000_05.png\n"
     ]
    },
    {
     "data": {
      "application/vnd.jupyter.widget-view+json": {
       "model_id": "1fc2923adc364fb5af9b51115ff39a73",
       "version_major": 2,
       "version_minor": 0
      },
      "text/plain": [
       "india_temperature_2000_06.png: |          | 0.00/83.4M (raw) [  0.0%] in 00:00 (eta:     ?)"
      ]
     },
     "metadata": {},
     "output_type": "display_data"
    },
    {
     "name": "stdout",
     "output_type": "stream",
     "text": [
      "Saved image: india_monthly_temperature_maps/india_temperature_2000_06.png\n"
     ]
    },
    {
     "data": {
      "application/vnd.jupyter.widget-view+json": {
       "model_id": "09636dc084ba4a44adf9cb9b6f085209",
       "version_major": 2,
       "version_minor": 0
      },
      "text/plain": [
       "india_temperature_2000_07.png: |          | 0.00/83.4M (raw) [  0.0%] in 00:00 (eta:     ?)"
      ]
     },
     "metadata": {},
     "output_type": "display_data"
    },
    {
     "name": "stdout",
     "output_type": "stream",
     "text": [
      "Saved image: india_monthly_temperature_maps/india_temperature_2000_07.png\n"
     ]
    },
    {
     "data": {
      "application/vnd.jupyter.widget-view+json": {
       "model_id": "6933fde2b03945fda6f482d07efa161b",
       "version_major": 2,
       "version_minor": 0
      },
      "text/plain": [
       "india_temperature_2000_08.png: |          | 0.00/83.4M (raw) [  0.0%] in 00:00 (eta:     ?)"
      ]
     },
     "metadata": {},
     "output_type": "display_data"
    },
    {
     "name": "stdout",
     "output_type": "stream",
     "text": [
      "Saved image: india_monthly_temperature_maps/india_temperature_2000_08.png\n"
     ]
    },
    {
     "data": {
      "application/vnd.jupyter.widget-view+json": {
       "model_id": "f7e3eb0c48984bc5825f5d1772b83f8f",
       "version_major": 2,
       "version_minor": 0
      },
      "text/plain": [
       "india_temperature_2000_09.png: |          | 0.00/83.4M (raw) [  0.0%] in 00:00 (eta:     ?)"
      ]
     },
     "metadata": {},
     "output_type": "display_data"
    },
    {
     "name": "stdout",
     "output_type": "stream",
     "text": [
      "Saved image: india_monthly_temperature_maps/india_temperature_2000_09.png\n"
     ]
    },
    {
     "data": {
      "application/vnd.jupyter.widget-view+json": {
       "model_id": "dfc215eeffa646b9989224a25dd473d5",
       "version_major": 2,
       "version_minor": 0
      },
      "text/plain": [
       "india_temperature_2000_10.png: |          | 0.00/83.4M (raw) [  0.0%] in 00:00 (eta:     ?)"
      ]
     },
     "metadata": {},
     "output_type": "display_data"
    },
    {
     "name": "stdout",
     "output_type": "stream",
     "text": [
      "Saved image: india_monthly_temperature_maps/india_temperature_2000_10.png\n"
     ]
    },
    {
     "data": {
      "application/vnd.jupyter.widget-view+json": {
       "model_id": "b9cd0970ba28492493e03d5fdd6afe1e",
       "version_major": 2,
       "version_minor": 0
      },
      "text/plain": [
       "india_temperature_2000_11.png: |          | 0.00/83.4M (raw) [  0.0%] in 00:00 (eta:     ?)"
      ]
     },
     "metadata": {},
     "output_type": "display_data"
    },
    {
     "name": "stdout",
     "output_type": "stream",
     "text": [
      "Saved image: india_monthly_temperature_maps/india_temperature_2000_11.png\n"
     ]
    },
    {
     "data": {
      "application/vnd.jupyter.widget-view+json": {
       "model_id": "7d1e5ce9b36b4e1dad1c62f2f192d72b",
       "version_major": 2,
       "version_minor": 0
      },
      "text/plain": [
       "india_temperature_2000_12.png: |          | 0.00/83.4M (raw) [  0.0%] in 00:00 (eta:     ?)"
      ]
     },
     "metadata": {},
     "output_type": "display_data"
    },
    {
     "name": "stdout",
     "output_type": "stream",
     "text": [
      "Saved image: india_monthly_temperature_maps/india_temperature_2000_12.png\n"
     ]
    },
    {
     "data": {
      "application/vnd.jupyter.widget-view+json": {
       "model_id": "8dd604a88936445ca244a5432cab29a8",
       "version_major": 2,
       "version_minor": 0
      },
      "text/plain": [
       "india_temperature_2001_01.png: |          | 0.00/83.4M (raw) [  0.0%] in 00:00 (eta:     ?)"
      ]
     },
     "metadata": {},
     "output_type": "display_data"
    },
    {
     "name": "stdout",
     "output_type": "stream",
     "text": [
      "Saved image: india_monthly_temperature_maps/india_temperature_2001_01.png\n"
     ]
    },
    {
     "data": {
      "application/vnd.jupyter.widget-view+json": {
       "model_id": "6d0a4f17957d462c924e260f3a8303bc",
       "version_major": 2,
       "version_minor": 0
      },
      "text/plain": [
       "india_temperature_2001_02.png: |          | 0.00/83.4M (raw) [  0.0%] in 00:00 (eta:     ?)"
      ]
     },
     "metadata": {},
     "output_type": "display_data"
    },
    {
     "name": "stdout",
     "output_type": "stream",
     "text": [
      "Saved image: india_monthly_temperature_maps/india_temperature_2001_02.png\n"
     ]
    },
    {
     "data": {
      "application/vnd.jupyter.widget-view+json": {
       "model_id": "5822f7fc6dc5446d98ca5b807c3d5d4a",
       "version_major": 2,
       "version_minor": 0
      },
      "text/plain": [
       "india_temperature_2001_03.png: |          | 0.00/83.4M (raw) [  0.0%] in 00:00 (eta:     ?)"
      ]
     },
     "metadata": {},
     "output_type": "display_data"
    },
    {
     "name": "stdout",
     "output_type": "stream",
     "text": [
      "Saved image: india_monthly_temperature_maps/india_temperature_2001_03.png\n"
     ]
    },
    {
     "data": {
      "application/vnd.jupyter.widget-view+json": {
       "model_id": "dda1cc85e1864703b576e1bd122ce38e",
       "version_major": 2,
       "version_minor": 0
      },
      "text/plain": [
       "india_temperature_2001_04.png: |          | 0.00/83.4M (raw) [  0.0%] in 00:00 (eta:     ?)"
      ]
     },
     "metadata": {},
     "output_type": "display_data"
    },
    {
     "name": "stdout",
     "output_type": "stream",
     "text": [
      "Saved image: india_monthly_temperature_maps/india_temperature_2001_04.png\n"
     ]
    },
    {
     "data": {
      "application/vnd.jupyter.widget-view+json": {
       "model_id": "d36f4e85e79e48b1a78d42b91ab1bc59",
       "version_major": 2,
       "version_minor": 0
      },
      "text/plain": [
       "india_temperature_2001_05.png: |          | 0.00/83.4M (raw) [  0.0%] in 00:00 (eta:     ?)"
      ]
     },
     "metadata": {},
     "output_type": "display_data"
    },
    {
     "name": "stdout",
     "output_type": "stream",
     "text": [
      "Saved image: india_monthly_temperature_maps/india_temperature_2001_05.png\n"
     ]
    },
    {
     "data": {
      "application/vnd.jupyter.widget-view+json": {
       "model_id": "6ddccf6907f74865bc4e8c2b2011235c",
       "version_major": 2,
       "version_minor": 0
      },
      "text/plain": [
       "india_temperature_2001_06.png: |          | 0.00/83.4M (raw) [  0.0%] in 00:00 (eta:     ?)"
      ]
     },
     "metadata": {},
     "output_type": "display_data"
    },
    {
     "name": "stdout",
     "output_type": "stream",
     "text": [
      "Saved image: india_monthly_temperature_maps/india_temperature_2001_06.png\n"
     ]
    },
    {
     "data": {
      "application/vnd.jupyter.widget-view+json": {
       "model_id": "80b12b926828424281c6f0faf5cca3aa",
       "version_major": 2,
       "version_minor": 0
      },
      "text/plain": [
       "india_temperature_2001_07.png: |          | 0.00/83.4M (raw) [  0.0%] in 00:00 (eta:     ?)"
      ]
     },
     "metadata": {},
     "output_type": "display_data"
    },
    {
     "name": "stdout",
     "output_type": "stream",
     "text": [
      "Saved image: india_monthly_temperature_maps/india_temperature_2001_07.png\n"
     ]
    },
    {
     "data": {
      "application/vnd.jupyter.widget-view+json": {
       "model_id": "3fcef45c64c443d49d3712575fe1877f",
       "version_major": 2,
       "version_minor": 0
      },
      "text/plain": [
       "india_temperature_2001_08.png: |          | 0.00/83.4M (raw) [  0.0%] in 00:00 (eta:     ?)"
      ]
     },
     "metadata": {},
     "output_type": "display_data"
    },
    {
     "name": "stdout",
     "output_type": "stream",
     "text": [
      "Saved image: india_monthly_temperature_maps/india_temperature_2001_08.png\n"
     ]
    },
    {
     "data": {
      "application/vnd.jupyter.widget-view+json": {
       "model_id": "714871bb9a304980957147758aeac5cb",
       "version_major": 2,
       "version_minor": 0
      },
      "text/plain": [
       "india_temperature_2001_09.png: |          | 0.00/83.4M (raw) [  0.0%] in 00:00 (eta:     ?)"
      ]
     },
     "metadata": {},
     "output_type": "display_data"
    },
    {
     "name": "stdout",
     "output_type": "stream",
     "text": [
      "Saved image: india_monthly_temperature_maps/india_temperature_2001_09.png\n"
     ]
    },
    {
     "data": {
      "application/vnd.jupyter.widget-view+json": {
       "model_id": "b2b4c908fb5049e48a634bd4c1797ffc",
       "version_major": 2,
       "version_minor": 0
      },
      "text/plain": [
       "india_temperature_2001_10.png: |          | 0.00/83.4M (raw) [  0.0%] in 00:00 (eta:     ?)"
      ]
     },
     "metadata": {},
     "output_type": "display_data"
    },
    {
     "name": "stdout",
     "output_type": "stream",
     "text": [
      "Saved image: india_monthly_temperature_maps/india_temperature_2001_10.png\n"
     ]
    },
    {
     "data": {
      "application/vnd.jupyter.widget-view+json": {
       "model_id": "281bcd8a8b3e4c50b880aaae71b4362d",
       "version_major": 2,
       "version_minor": 0
      },
      "text/plain": [
       "india_temperature_2001_11.png: |          | 0.00/83.4M (raw) [  0.0%] in 00:00 (eta:     ?)"
      ]
     },
     "metadata": {},
     "output_type": "display_data"
    },
    {
     "name": "stdout",
     "output_type": "stream",
     "text": [
      "Saved image: india_monthly_temperature_maps/india_temperature_2001_11.png\n"
     ]
    },
    {
     "data": {
      "application/vnd.jupyter.widget-view+json": {
       "model_id": "89ebbf0a55bc4d5b91f3465a27dc6f28",
       "version_major": 2,
       "version_minor": 0
      },
      "text/plain": [
       "india_temperature_2001_12.png: |          | 0.00/83.4M (raw) [  0.0%] in 00:00 (eta:     ?)"
      ]
     },
     "metadata": {},
     "output_type": "display_data"
    },
    {
     "name": "stdout",
     "output_type": "stream",
     "text": [
      "Saved image: india_monthly_temperature_maps/india_temperature_2001_12.png\n"
     ]
    },
    {
     "data": {
      "application/vnd.jupyter.widget-view+json": {
       "model_id": "fb864368b74646ddbbb758fdf68276f4",
       "version_major": 2,
       "version_minor": 0
      },
      "text/plain": [
       "india_temperature_2002_01.png: |          | 0.00/83.4M (raw) [  0.0%] in 00:00 (eta:     ?)"
      ]
     },
     "metadata": {},
     "output_type": "display_data"
    },
    {
     "name": "stdout",
     "output_type": "stream",
     "text": [
      "Saved image: india_monthly_temperature_maps/india_temperature_2002_01.png\n"
     ]
    },
    {
     "data": {
      "application/vnd.jupyter.widget-view+json": {
       "model_id": "8a5826993b664686bf43dffacff553eb",
       "version_major": 2,
       "version_minor": 0
      },
      "text/plain": [
       "india_temperature_2002_02.png: |          | 0.00/83.4M (raw) [  0.0%] in 00:00 (eta:     ?)"
      ]
     },
     "metadata": {},
     "output_type": "display_data"
    },
    {
     "name": "stdout",
     "output_type": "stream",
     "text": [
      "Saved image: india_monthly_temperature_maps/india_temperature_2002_02.png\n"
     ]
    },
    {
     "data": {
      "application/vnd.jupyter.widget-view+json": {
       "model_id": "2b02f595f97b49d9b0f14a7d7dfeb93f",
       "version_major": 2,
       "version_minor": 0
      },
      "text/plain": [
       "india_temperature_2002_03.png: |          | 0.00/83.4M (raw) [  0.0%] in 00:00 (eta:     ?)"
      ]
     },
     "metadata": {},
     "output_type": "display_data"
    },
    {
     "name": "stdout",
     "output_type": "stream",
     "text": [
      "Saved image: india_monthly_temperature_maps/india_temperature_2002_03.png\n"
     ]
    },
    {
     "data": {
      "application/vnd.jupyter.widget-view+json": {
       "model_id": "62e3765014d2482ca4ac953cbb9b103b",
       "version_major": 2,
       "version_minor": 0
      },
      "text/plain": [
       "india_temperature_2002_04.png: |          | 0.00/83.4M (raw) [  0.0%] in 00:00 (eta:     ?)"
      ]
     },
     "metadata": {},
     "output_type": "display_data"
    },
    {
     "name": "stdout",
     "output_type": "stream",
     "text": [
      "Saved image: india_monthly_temperature_maps/india_temperature_2002_04.png\n"
     ]
    },
    {
     "data": {
      "application/vnd.jupyter.widget-view+json": {
       "model_id": "e63aa411495743918e36f92dda547466",
       "version_major": 2,
       "version_minor": 0
      },
      "text/plain": [
       "india_temperature_2002_05.png: |          | 0.00/83.4M (raw) [  0.0%] in 00:00 (eta:     ?)"
      ]
     },
     "metadata": {},
     "output_type": "display_data"
    },
    {
     "name": "stdout",
     "output_type": "stream",
     "text": [
      "Saved image: india_monthly_temperature_maps/india_temperature_2002_05.png\n"
     ]
    },
    {
     "data": {
      "application/vnd.jupyter.widget-view+json": {
       "model_id": "8ec049795c0845fb956cd48a115ad9bb",
       "version_major": 2,
       "version_minor": 0
      },
      "text/plain": [
       "india_temperature_2002_06.png: |          | 0.00/83.4M (raw) [  0.0%] in 00:00 (eta:     ?)"
      ]
     },
     "metadata": {},
     "output_type": "display_data"
    },
    {
     "name": "stdout",
     "output_type": "stream",
     "text": [
      "Saved image: india_monthly_temperature_maps/india_temperature_2002_06.png\n"
     ]
    },
    {
     "data": {
      "application/vnd.jupyter.widget-view+json": {
       "model_id": "fc832e5dead646519447f6abf685addf",
       "version_major": 2,
       "version_minor": 0
      },
      "text/plain": [
       "india_temperature_2002_07.png: |          | 0.00/83.4M (raw) [  0.0%] in 00:00 (eta:     ?)"
      ]
     },
     "metadata": {},
     "output_type": "display_data"
    },
    {
     "name": "stdout",
     "output_type": "stream",
     "text": [
      "Saved image: india_monthly_temperature_maps/india_temperature_2002_07.png\n"
     ]
    },
    {
     "data": {
      "application/vnd.jupyter.widget-view+json": {
       "model_id": "78d5f4d9700f43fe8f4e3efbf4e74696",
       "version_major": 2,
       "version_minor": 0
      },
      "text/plain": [
       "india_temperature_2002_08.png: |          | 0.00/83.4M (raw) [  0.0%] in 00:00 (eta:     ?)"
      ]
     },
     "metadata": {},
     "output_type": "display_data"
    },
    {
     "name": "stdout",
     "output_type": "stream",
     "text": [
      "Saved image: india_monthly_temperature_maps/india_temperature_2002_08.png\n"
     ]
    },
    {
     "data": {
      "application/vnd.jupyter.widget-view+json": {
       "model_id": "abd1093d896a4d4ba9ac706f24e06eac",
       "version_major": 2,
       "version_minor": 0
      },
      "text/plain": [
       "india_temperature_2002_09.png: |          | 0.00/83.4M (raw) [  0.0%] in 00:00 (eta:     ?)"
      ]
     },
     "metadata": {},
     "output_type": "display_data"
    },
    {
     "name": "stdout",
     "output_type": "stream",
     "text": [
      "Saved image: india_monthly_temperature_maps/india_temperature_2002_09.png\n"
     ]
    },
    {
     "data": {
      "application/vnd.jupyter.widget-view+json": {
       "model_id": "fae20dbb73af4fee866228b70063c32d",
       "version_major": 2,
       "version_minor": 0
      },
      "text/plain": [
       "india_temperature_2002_10.png: |          | 0.00/83.4M (raw) [  0.0%] in 00:00 (eta:     ?)"
      ]
     },
     "metadata": {},
     "output_type": "display_data"
    },
    {
     "name": "stdout",
     "output_type": "stream",
     "text": [
      "Saved image: india_monthly_temperature_maps/india_temperature_2002_10.png\n"
     ]
    },
    {
     "data": {
      "application/vnd.jupyter.widget-view+json": {
       "model_id": "78066d11c5b441b6b14cf781fc00785c",
       "version_major": 2,
       "version_minor": 0
      },
      "text/plain": [
       "india_temperature_2002_11.png: |          | 0.00/83.4M (raw) [  0.0%] in 00:00 (eta:     ?)"
      ]
     },
     "metadata": {},
     "output_type": "display_data"
    },
    {
     "name": "stdout",
     "output_type": "stream",
     "text": [
      "Saved image: india_monthly_temperature_maps/india_temperature_2002_11.png\n"
     ]
    },
    {
     "data": {
      "application/vnd.jupyter.widget-view+json": {
       "model_id": "e72ef853429249b2b6ad1d8c24b2354e",
       "version_major": 2,
       "version_minor": 0
      },
      "text/plain": [
       "india_temperature_2002_12.png: |          | 0.00/83.4M (raw) [  0.0%] in 00:00 (eta:     ?)"
      ]
     },
     "metadata": {},
     "output_type": "display_data"
    },
    {
     "name": "stdout",
     "output_type": "stream",
     "text": [
      "Saved image: india_monthly_temperature_maps/india_temperature_2002_12.png\n"
     ]
    },
    {
     "data": {
      "application/vnd.jupyter.widget-view+json": {
       "model_id": "69c5b338f521474483c3c546237fe579",
       "version_major": 2,
       "version_minor": 0
      },
      "text/plain": [
       "india_temperature_2003_01.png: |          | 0.00/83.4M (raw) [  0.0%] in 00:00 (eta:     ?)"
      ]
     },
     "metadata": {},
     "output_type": "display_data"
    },
    {
     "name": "stdout",
     "output_type": "stream",
     "text": [
      "Saved image: india_monthly_temperature_maps/india_temperature_2003_01.png\n"
     ]
    },
    {
     "data": {
      "application/vnd.jupyter.widget-view+json": {
       "model_id": "ecbd1be9ff6d446bbd886debfbb43b28",
       "version_major": 2,
       "version_minor": 0
      },
      "text/plain": [
       "india_temperature_2003_02.png: |          | 0.00/83.4M (raw) [  0.0%] in 00:00 (eta:     ?)"
      ]
     },
     "metadata": {},
     "output_type": "display_data"
    },
    {
     "name": "stdout",
     "output_type": "stream",
     "text": [
      "Saved image: india_monthly_temperature_maps/india_temperature_2003_02.png\n"
     ]
    },
    {
     "data": {
      "application/vnd.jupyter.widget-view+json": {
       "model_id": "96d5f414ed10415bb3bfe299eb87a9b4",
       "version_major": 2,
       "version_minor": 0
      },
      "text/plain": [
       "india_temperature_2003_03.png: |          | 0.00/83.4M (raw) [  0.0%] in 00:00 (eta:     ?)"
      ]
     },
     "metadata": {},
     "output_type": "display_data"
    },
    {
     "name": "stdout",
     "output_type": "stream",
     "text": [
      "Saved image: india_monthly_temperature_maps/india_temperature_2003_03.png\n"
     ]
    },
    {
     "data": {
      "application/vnd.jupyter.widget-view+json": {
       "model_id": "8f18efff45bd4042be273b3d74772578",
       "version_major": 2,
       "version_minor": 0
      },
      "text/plain": [
       "india_temperature_2003_04.png: |          | 0.00/83.4M (raw) [  0.0%] in 00:00 (eta:     ?)"
      ]
     },
     "metadata": {},
     "output_type": "display_data"
    }
   ],
   "source": [
    "import ee\n",
    "import geemap\n",
    "import os\n",
    "\n",
    "# Authenticate and initialize the Earth Engine API\n",
    "ee.Initialize()\n",
    "\n",
    "# Define India's boundary\n",
    "india_boundary = ee.FeatureCollection(\"USDOS/LSIB_SIMPLE/2017\").filter(ee.Filter.eq('country_na', 'India'))\n",
    "\n",
    "# Load NOAA CPC Temperature dataset and select the tmax band\n",
    "temperature_dataset = ee.ImageCollection(\"NOAA/CPC/Temperature\").select(\"tmax\")\n",
    "\n",
    "# Define visualization parameters\n",
    "vis_params = {\n",
    "    'min': 10,\n",
    "    'max': 50,\n",
    "    'palette': ['blue', 'cyan', 'yellow', 'orange', 'red']\n",
    "}\n",
    "\n",
    "# Create a directory to save the images\n",
    "output_dir = 'india_monthly_temperature_maps'\n",
    "if not os.path.exists(output_dir):\n",
    "    os.makedirs(output_dir)\n",
    "\n",
    "# Generate monthly temperature maps from 2000 to 2020\n",
    "years = list(range(2000, 2021))\n",
    "months = list(range(1, 13))\n",
    "\n",
    "for year in years:\n",
    "    for month in months:\n",
    "        start_date = f\"{year}-{month:02d}-01\"\n",
    "        end_date = f\"{year}-{month:02d}-28\" if month == 2 else f\"{year}-{month:02d}-30\"\n",
    "        monthly_temp = temperature_dataset.filterDate(start_date, end_date).mean().clip(india_boundary)\n",
    "        map_id = monthly_temp.getMapId(vis_params)\n",
    "        map_url = map_id['tile_fetcher'].url_format\n",
    "        image_path = os.path.join(output_dir, f\"india_temperature_{year}_{month:02d}.png\")\n",
    "        geemap.download_ee_image(\n",
    "            monthly_temp, \n",
    "            image_path, \n",
    "            scale=1000, \n",
    "            region=india_boundary.geometry(), \n",
    "            crs='EPSG:4326'\n",
    "        )\n",
    "        print(f\"Saved image: {image_path}\")"
   ]
  }
 ],
 "metadata": {
  "kernelspec": {
   "display_name": ".venv",
   "language": "python",
   "name": "python3"
  },
  "language_info": {
   "codemirror_mode": {
    "name": "ipython",
    "version": 3
   },
   "file_extension": ".py",
   "mimetype": "text/x-python",
   "name": "python",
   "nbconvert_exporter": "python",
   "pygments_lexer": "ipython3",
   "version": "3.9.6"
  }
 },
 "nbformat": 4,
 "nbformat_minor": 2
}
